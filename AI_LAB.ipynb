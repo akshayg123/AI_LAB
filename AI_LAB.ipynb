{
  "nbformat": 4,
  "nbformat_minor": 0,
  "metadata": {
    "colab": {
      "provenance": [],
      "authorship_tag": "ABX9TyN03d/BBLrN/Md1Gz8yGHu8",
      "include_colab_link": true
    },
    "kernelspec": {
      "name": "python3",
      "display_name": "Python 3"
    },
    "language_info": {
      "name": "python"
    }
  },
  "cells": [
    {
      "cell_type": "markdown",
      "metadata": {
        "id": "view-in-github",
        "colab_type": "text"
      },
      "source": [
        "<a href=\"https://colab.research.google.com/github/akshayg123/AI_LAB/blob/main/AI_LAB.ipynb\" target=\"_parent\"><img src=\"https://colab.research.google.com/assets/colab-badge.svg\" alt=\"Open In Colab\"/></a>"
      ]
    },
    {
      "cell_type": "code",
      "execution_count": null,
      "metadata": {
        "colab": {
          "base_uri": "https://localhost:8080/"
        },
        "id": "yrZGicYfYmGR",
        "outputId": "e77916f0-dbdc-4c53-cb4a-eb8d45789456"
      },
      "outputs": [
        {
          "output_type": "stream",
          "name": "stdout",
          "text": [
            "[[0, 1, 2], [0, 1, 2], [0, 1, 2]]\n",
            "[1, 2, 3, 4, 5, 6]\n"
          ]
        }
      ],
      "source": [
        "lst=[]\n",
        "for i in range(3):\n",
        "    lst.append([])\n",
        "    for j in range(3):\n",
        "        lst[i].append(j)\n",
        "\n",
        "print(lst)\n",
        "\n",
        "\n",
        "lst1=[1,2,3]\n",
        "lst2=[4,5,6]\n",
        "lst3=lst1+lst2\n",
        "print(lst3)"
      ]
    },
    {
      "cell_type": "code",
      "source": [
        "import numpy as np\n",
        "lst=[1,2,3]\n",
        "arr=np.array(lst)\n",
        "print(arr)\n",
        "print(arr[::-1])"
      ],
      "metadata": {
        "colab": {
          "base_uri": "https://localhost:8080/"
        },
        "id": "dVF6IEuyaDCL",
        "outputId": "ff795e05-3e65-4355-cabd-8a8dad67eef9"
      },
      "execution_count": null,
      "outputs": [
        {
          "output_type": "stream",
          "name": "stdout",
          "text": [
            "[1 2 3]\n",
            "[3 2 1]\n"
          ]
        }
      ]
    },
    {
      "cell_type": "code",
      "source": [
        "lst=\"hElLo wOrLd\"\n",
        "print(lst.upper())\n",
        "print(lst.lower())\n",
        "print(lst.title())\n"
      ],
      "metadata": {
        "colab": {
          "base_uri": "https://localhost:8080/"
        },
        "id": "oMXgiH33aEjp",
        "outputId": "8835d16e-2eac-4ac0-8cac-35d340132134"
      },
      "execution_count": null,
      "outputs": [
        {
          "output_type": "stream",
          "name": "stdout",
          "text": [
            "HELLO WORLD\n",
            "hello world\n",
            "Hello World\n"
          ]
        }
      ]
    },
    {
      "cell_type": "markdown",
      "source": [
        "EXPERIMENT 1-N QUEENS\n"
      ],
      "metadata": {
        "id": "LJ31N0vVaua_"
      }
    },
    {
      "cell_type": "code",
      "source": [
        "#1-->is the queen\n",
        "N=int(input(\"enter number of queens:\"))\n",
        "board=[[0]*N for _ in range(N)]\n",
        "def attack(i,j):\n",
        "  for k in range(0,N):\n",
        "    if board[i][k]==1 or board[k][j]==1:\n",
        "      return True\n",
        "\n",
        "  for k in range(0,N):\n",
        "    for l in range(0,N):\n",
        "      if (k+l==i+j) or (k-l==i-j):\n",
        "        if board[k][l]==1:\n",
        "          return True\n",
        "  return False\n",
        "\n",
        "\n",
        "def ans(n):\n",
        "  if n==0:\n",
        "    return True\n",
        "  for i in range(0,N):\n",
        "    for j in range(0,N):\n",
        "      if (not(attack(i,j))) and (board[i][j]!=1):\n",
        "        board[i][j]=1\n",
        "        if ans(n-1)==True:\n",
        "          return True\n",
        "        board[i][j]=0\n",
        "  return False\n",
        "\n",
        "\n",
        "if ans(N) == False:\n",
        "    print(\"does not exist\")\n",
        "else:\n",
        "    for i in board:\n",
        "        print(i)\n",
        "\n",
        "\n",
        "\n",
        "\n",
        "\n"
      ],
      "metadata": {
        "colab": {
          "base_uri": "https://localhost:8080/"
        },
        "id": "wOCWeYSEaRoM",
        "outputId": "13a965a6-61ef-4c66-e67d-2218ab809137"
      },
      "execution_count": null,
      "outputs": [
        {
          "output_type": "stream",
          "name": "stdout",
          "text": [
            "enter number of queens:8\n",
            "[1, 0, 0, 0, 0, 0, 0, 0]\n",
            "[0, 0, 0, 0, 1, 0, 0, 0]\n",
            "[0, 0, 0, 0, 0, 0, 0, 1]\n",
            "[0, 0, 0, 0, 0, 1, 0, 0]\n",
            "[0, 0, 1, 0, 0, 0, 0, 0]\n",
            "[0, 0, 0, 0, 0, 0, 1, 0]\n",
            "[0, 1, 0, 0, 0, 0, 0, 0]\n",
            "[0, 0, 0, 1, 0, 0, 0, 0]\n"
          ]
        }
      ]
    },
    {
      "cell_type": "markdown",
      "source": [
        "EXPERIMENT 2 - Water Jug Problem"
      ],
      "metadata": {
        "id": "yfEffW85ayOd"
      }
    },
    {
      "cell_type": "code",
      "source": [
        "def ans(x,y,d,visit,count=0):\n",
        "  if(x,y) in visit:\n",
        "    return False,count\n",
        "  visit.add((x,y))\n",
        "  count+=1\n",
        "  print(f\"State: ({x}, {y})\")\n",
        "\n",
        "  if x==d or y==d:\n",
        "    return True,count\n",
        "\n",
        "  if x<0 or y<0 or x>m or y>n:\n",
        "    return False,count\n",
        "\n",
        "  #fill 1\n",
        "  result,count=ans(m,y,d,visit,count)\n",
        "  if result:\n",
        "    return True,count\n",
        "\n",
        "  #fill 2\n",
        "  result,count=ans(x,n,d,visit,count)\n",
        "  if result:\n",
        "    return True,count\n",
        "\n",
        "  #empty 1:\n",
        "  result,count=ans(0,y,d,visit,count)\n",
        "  if result:\n",
        "    return True,count\n",
        "\n",
        "  #empty 2:\n",
        "  result,count=ans(x,0,d,visit,count)\n",
        "  if result:\n",
        "    return True,count\n",
        "\n",
        "  #pour 1->2\n",
        "  amt=min(x,n-y)\n",
        "  result,count=ans(x-amt,y+amt,d,visit,count)\n",
        "  if result:\n",
        "    return True,count\n",
        "\n",
        "  #pour 2->1\n",
        "  amt=min(y,m-x)\n",
        "  result,count=ans(x+amt,y-amt,d,visit,count)\n",
        "  if result:\n",
        "    return True,count\n",
        "\n",
        "  return False,count\n",
        "\n",
        "\n",
        "m,n=map(int,input().split())\n",
        "d=int(input(\"desired limit for jug2:\"))\n",
        "visit=set()\n",
        "if abs(m-n)>1:\n",
        "  print(\"invalid\")\n",
        "else:\n",
        "  result,count=ans(0,0,d,visit)\n",
        "  print(count)\n",
        "\n",
        "\n",
        "\n",
        "\n",
        "\n",
        "\n",
        "\n",
        "\n"
      ],
      "metadata": {
        "id": "WeURH3d3xU-w",
        "colab": {
          "base_uri": "https://localhost:8080/"
        },
        "outputId": "cca4dfc4-f7c6-489d-b9a1-d89700f8b739"
      },
      "execution_count": 15,
      "outputs": [
        {
          "output_type": "stream",
          "name": "stdout",
          "text": [
            "8 9\n",
            "desired limit for jug2:7\n",
            "State: (0, 0)\n",
            "State: (8, 0)\n",
            "State: (8, 9)\n",
            "State: (0, 9)\n",
            "State: (8, 1)\n",
            "State: (0, 1)\n",
            "State: (1, 0)\n",
            "State: (1, 9)\n",
            "State: (8, 2)\n",
            "State: (0, 2)\n",
            "State: (2, 0)\n",
            "State: (2, 9)\n",
            "State: (8, 3)\n",
            "State: (0, 3)\n",
            "State: (3, 0)\n",
            "State: (3, 9)\n",
            "State: (8, 4)\n",
            "State: (0, 4)\n",
            "State: (4, 0)\n",
            "State: (4, 9)\n",
            "State: (8, 5)\n",
            "State: (0, 5)\n",
            "State: (5, 0)\n",
            "State: (5, 9)\n",
            "State: (8, 6)\n",
            "State: (0, 6)\n",
            "State: (6, 0)\n",
            "State: (6, 9)\n",
            "State: (8, 7)\n",
            "29\n"
          ]
        }
      ]
    },
    {
      "cell_type": "markdown",
      "source": [
        "EXPERIMENT 3 - Hangman Game"
      ],
      "metadata": {
        "id": "wl8ZTYxI5D9S"
      }
    },
    {
      "cell_type": "code",
      "source": [],
      "metadata": {
        "id": "3ezxUPH3bWQf"
      },
      "execution_count": null,
      "outputs": []
    }
  ]
}